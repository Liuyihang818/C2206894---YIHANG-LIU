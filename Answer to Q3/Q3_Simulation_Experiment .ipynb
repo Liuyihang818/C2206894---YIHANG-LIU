{
 "cells": [
  {
   "cell_type": "markdown",
   "id": "b21c34ca",
   "metadata": {},
   "source": [
    "#  dataset without data doppelganger"
   ]
  },
  {
   "cell_type": "code",
   "execution_count": 11,
   "id": "5a6190fc",
   "metadata": {},
   "outputs": [
    {
     "data": {
      "text/html": [
       "<div>\n",
       "<style scoped>\n",
       "    .dataframe tbody tr th:only-of-type {\n",
       "        vertical-align: middle;\n",
       "    }\n",
       "\n",
       "    .dataframe tbody tr th {\n",
       "        vertical-align: top;\n",
       "    }\n",
       "\n",
       "    .dataframe thead th {\n",
       "        text-align: right;\n",
       "    }\n",
       "</style>\n",
       "<table border=\"1\" class=\"dataframe\">\n",
       "  <thead>\n",
       "    <tr style=\"text-align: right;\">\n",
       "      <th></th>\n",
       "      <th>Sex</th>\n",
       "      <th>rs4680</th>\n",
       "      <th>rs4880</th>\n",
       "      <th>rs4994</th>\n",
       "      <th>rs5186</th>\n",
       "      <th>rs5219</th>\n",
       "      <th>rs5275</th>\n",
       "      <th>rs5443</th>\n",
       "      <th>rs7041</th>\n",
       "      <th>rs7412</th>\n",
       "      <th>target</th>\n",
       "    </tr>\n",
       "  </thead>\n",
       "  <tbody>\n",
       "    <tr>\n",
       "      <th>0</th>\n",
       "      <td>1.0</td>\n",
       "      <td>AG</td>\n",
       "      <td>AG</td>\n",
       "      <td>AA</td>\n",
       "      <td>AC</td>\n",
       "      <td>TT</td>\n",
       "      <td>AG</td>\n",
       "      <td>CC</td>\n",
       "      <td>CC</td>\n",
       "      <td>CC</td>\n",
       "      <td>0.0</td>\n",
       "    </tr>\n",
       "    <tr>\n",
       "      <th>1</th>\n",
       "      <td>0.0</td>\n",
       "      <td>AG</td>\n",
       "      <td>AA</td>\n",
       "      <td>AG</td>\n",
       "      <td>AC</td>\n",
       "      <td>TT</td>\n",
       "      <td>AG</td>\n",
       "      <td>CC</td>\n",
       "      <td>AC</td>\n",
       "      <td>CC</td>\n",
       "      <td>0.0</td>\n",
       "    </tr>\n",
       "    <tr>\n",
       "      <th>2</th>\n",
       "      <td>1.0</td>\n",
       "      <td>GG</td>\n",
       "      <td>AA</td>\n",
       "      <td>AA</td>\n",
       "      <td>CC</td>\n",
       "      <td>CC</td>\n",
       "      <td>AG</td>\n",
       "      <td>CT</td>\n",
       "      <td>AC</td>\n",
       "      <td>CC</td>\n",
       "      <td>0.0</td>\n",
       "    </tr>\n",
       "    <tr>\n",
       "      <th>3</th>\n",
       "      <td>0.0</td>\n",
       "      <td>AG</td>\n",
       "      <td>AA</td>\n",
       "      <td>AG</td>\n",
       "      <td>AA</td>\n",
       "      <td>CT</td>\n",
       "      <td>AA</td>\n",
       "      <td>CC</td>\n",
       "      <td>AC</td>\n",
       "      <td>CC</td>\n",
       "      <td>0.0</td>\n",
       "    </tr>\n",
       "    <tr>\n",
       "      <th>4</th>\n",
       "      <td>0.0</td>\n",
       "      <td>AG</td>\n",
       "      <td>AG</td>\n",
       "      <td>AA</td>\n",
       "      <td>AA</td>\n",
       "      <td>CC</td>\n",
       "      <td>AA</td>\n",
       "      <td>CT</td>\n",
       "      <td>AC</td>\n",
       "      <td>CC</td>\n",
       "      <td>0.0</td>\n",
       "    </tr>\n",
       "  </tbody>\n",
       "</table>\n",
       "</div>"
      ],
      "text/plain": [
       "   Sex rs4680 rs4880 rs4994 rs5186 rs5219 rs5275 rs5443 rs7041 rs7412  target\n",
       "0  1.0     AG     AG     AA     AC     TT     AG     CC     CC     CC     0.0\n",
       "1  0.0     AG     AA     AG     AC     TT     AG     CC     AC     CC     0.0\n",
       "2  1.0     GG     AA     AA     CC     CC     AG     CT     AC     CC     0.0\n",
       "3  0.0     AG     AA     AG     AA     CT     AA     CC     AC     CC     0.0\n",
       "4  0.0     AG     AG     AA     AA     CC     AA     CT     AC     CC     0.0"
      ]
     },
     "execution_count": 11,
     "metadata": {},
     "output_type": "execute_result"
    }
   ],
   "source": [
    "import numpy as np\n",
    "import pandas as pd\n",
    "#please change the path \n",
    "data = pd.read_csv(r\"C:\\Users\\yihan\\Desktop\\TB1.csv\",encoding=\"gbk\")\n",
    "data.head()"
   ]
  },
  {
   "cell_type": "code",
   "execution_count": 12,
   "id": "d2590e73",
   "metadata": {},
   "outputs": [],
   "source": [
    "# data process\n",
    "from sklearn import preprocessing\n",
    "from sklearn.preprocessing import LabelEncoder\n",
    "from sklearn.preprocessing import OneHotEncoder \n",
    "for x in range(0,11):\n",
    "    data.iloc[:,x]=data.iloc[:,x].fillna(data.iloc[:,x].mode()[0])\n",
    "    enc=preprocessing.LabelEncoder()   \n",
    "    data.iloc[:,x]=enc.fit_transform(data.iloc[:,x])\n",
    "y=data['target']\n",
    "temp_data = pd.DataFrame(data)\n",
    "X= temp_data.drop('target', axis=1).values\n",
    "data_scaler = preprocessing.MinMaxScaler(feature_range=(0, 1))\n",
    "X= data_scaler.fit_transform(X)\n",
    " \n",
    "    "
   ]
  },
  {
   "cell_type": "code",
   "execution_count": 13,
   "id": "831aa189",
   "metadata": {},
   "outputs": [],
   "source": [
    "#PCA\n",
    "from sklearn.decomposition import PCA\n",
    "pca_1=PCA(n_components=2)\n",
    "X=pca_1.fit_transform(X)"
   ]
  },
  {
   "cell_type": "code",
   "execution_count": 14,
   "id": "f88be382",
   "metadata": {},
   "outputs": [
    {
     "name": "stderr",
     "output_type": "stream",
     "text": [
      "<ipython-input-14-3223c15735af>:39: MatplotlibDeprecationWarning: shading='flat' when X and Y have the same dimensions as C is deprecated since 3.3.  Either specify the corners of the quadrilaterals with X and Y, or pass shading='auto', 'nearest' or 'gouraud', or set rcParams['pcolor.shading'].  This will become an error two minor releases later.\n",
      "  plt.pcolormesh(x_grid, y_grid, predicted_values, cmap=cm.Pastel1)\n"
     ]
    },
    {
     "data": {
      "image/png": "[encoded data removed]",
      "text/plain": [
       "<Figure size 432x288 with 1 Axes>"
      ]
     },
     "metadata": {
      "needs_background": "light"
     },
     "output_type": "display_data"
    },
    {
     "data": {
      "image/png": "[encoded data removed]",
      "text/plain": [
       "<Figure size 432x288 with 1 Axes>"
      ]
     },
     "metadata": {
      "needs_background": "light"
     },
     "output_type": "display_data"
    }
   ],
   "source": [
    "#KNN and draw\n",
    "from sklearn.model_selection import train_test_split\n",
    "from sklearn.neighbors import KNeighborsClassifier\n",
    "import matplotlib.pyplot as plt\n",
    "import matplotlib.cm as cm\n",
    "from sklearn import neighbors, datasets\n",
    " \n",
    "X_train,X_test, y_train, y_test= train_test_split(X,y, test_size=0.3, random_state=0); \n",
    "\n",
    "# Plot input data\n",
    "plt.figure()\n",
    "plt.title('Input datapoints (without data doppelganger)')\n",
    "color = [\"blue\",\"black\"]\n",
    "mapper = np.array([color[i] for i in y])\n",
    "for i in range(X.shape[0]):\n",
    "    plt.scatter(X[i, 0], X[i, 1],s=50, edgecolors='black', facecolors=mapper[i])\n",
    "\n",
    "# Number of nearest neighbors to consider\n",
    "num_neighbors = 5\n",
    "# step size of the grid\n",
    "h = 0.01  \n",
    "# Create a K-Neighbours Classifier model and train it\n",
    "#KNeighborsClassifier(n_neighbors=24, p=1, weights=\"distance\")\n",
    "classifier = KNeighborsClassifier(n_neighbors=24, p=1, weights=\"distance\")\n",
    "classifier.fit(X, y)\n",
    "\n",
    "# Create the mesh to plot the boundaries\n",
    "x_min, x_max = X[:, 0].min() - 1, X[:, 0].max() + 1\n",
    "y_min, y_max = X[:, 1].min() - 1, X[:, 1].max() + 1 \n",
    "x_grid, y_grid = np.meshgrid(np.arange(x_min, x_max, h),np.arange(x_min, x_max, h))\n",
    "\n",
    "# Compute the outputs for all the points on the mesh\n",
    "predicted_values = classifier.predict(np.c_[x_grid.ravel(), y_grid.ravel()])\n",
    "\n",
    "# Put the computed results on the map\n",
    "predicted_values = predicted_values.reshape(x_grid.shape)\n",
    "plt.figure()\n",
    "plt.title('k nearest neighbors classifier boundaries')\n",
    "plt.pcolormesh(x_grid, y_grid, predicted_values, cmap=cm.Pastel1)\n",
    "\n",
    "# Overlay the training points on the map\n",
    "for i in range(X.shape[0]):\n",
    "    plt.scatter(X[i, 0], X[i, 1],s=50,edgecolors='black',facecolors= mapper[i])\n",
    "plt.xlim(x_grid.min(),x_grid.max())\n",
    "plt.ylim(y_grid.min(),y_grid.max())\n",
    "plt.show()\n",
    "\n"
   ]
  },
  {
   "cell_type": "code",
   "execution_count": 16,
   "id": "39deda59",
   "metadata": {},
   "outputs": [
    {
     "name": "stdout",
     "output_type": "stream",
     "text": [
      "Accuracy: 77.72%\n",
      "F1: 0.73\n",
      "Precision: 74.07%\n",
      "Recall: 77.72%\n"
     ]
    },
    {
     "name": "stderr",
     "output_type": "stream",
     "text": [
      "C:\\Users\\yihan\\anaconda3\\lib\\site-packages\\sklearn\\metrics\\_classification.py:1248: UndefinedMetricWarning: Precision is ill-defined and being set to 0.0 in labels with no predicted samples. Use `zero_division` parameter to control this behavior.\n",
      "  _warn_prf(average, modifier, msg_start, len(result))\n",
      "C:\\Users\\yihan\\anaconda3\\lib\\site-packages\\sklearn\\metrics\\_classification.py:1248: UndefinedMetricWarning: Precision is ill-defined and being set to 0.0 in labels with no predicted samples. Use `zero_division` parameter to control this behavior.\n",
      "  _warn_prf(average, modifier, msg_start, len(result))\n",
      "C:\\Users\\yihan\\anaconda3\\lib\\site-packages\\sklearn\\metrics\\_classification.py:1248: UndefinedMetricWarning: Precision is ill-defined and being set to 0.0 in labels with no predicted samples. Use `zero_division` parameter to control this behavior.\n",
      "  _warn_prf(average, modifier, msg_start, len(result))\n",
      "C:\\Users\\yihan\\anaconda3\\lib\\site-packages\\sklearn\\metrics\\_classification.py:1248: UndefinedMetricWarning: Precision is ill-defined and being set to 0.0 in labels with no predicted samples. Use `zero_division` parameter to control this behavior.\n",
      "  _warn_prf(average, modifier, msg_start, len(result))\n"
     ]
    }
   ],
   "source": [
    "# Cross validation and scoring functions\n",
    "from sklearn.model_selection import cross_val_score\n",
    "num_validations = 5\n",
    "accuracy = cross_val_score(classifier,\n",
    "        X, y, scoring='accuracy', cv=num_validations)\n",
    "print (\"Accuracy: \" + str(round(100*accuracy.mean(), 2)) + \"%\")\n",
    "\n",
    "f1 = cross_val_score(classifier, X, y, scoring='f1_weighted', cv=num_validations)\n",
    "print (\"F1: \" + str(round( f1.mean(), 2)))\n",
    "\n",
    "precision = cross_val_score(classifier, X, y,scoring='precision_weighted', cv=num_validations)\n",
    "print (\"Precision: \" + str(round(100*precision.mean(), 2)) + \"%\")\n",
    "\n",
    "recall = cross_val_score(classifier, X, y, scoring='recall_weighted', cv=num_validations)\n",
    "print (\"Recall: \" + str(round(100*recall.mean(), 2)) + \"%\")"
   ]
  },
  {
   "cell_type": "markdown",
   "id": "af8cdc1e",
   "metadata": {},
   "source": [
    "#  dataset with data doppelganger"
   ]
  },
  {
   "cell_type": "code",
   "execution_count": 17,
   "id": "4d9f7728",
   "metadata": {},
   "outputs": [
    {
     "data": {
      "text/html": [
       "<div>\n",
       "<style scoped>\n",
       "    .dataframe tbody tr th:only-of-type {\n",
       "        vertical-align: middle;\n",
       "    }\n",
       "\n",
       "    .dataframe tbody tr th {\n",
       "        vertical-align: top;\n",
       "    }\n",
       "\n",
       "    .dataframe thead th {\n",
       "        text-align: right;\n",
       "    }\n",
       "</style>\n",
       "<table border=\"1\" class=\"dataframe\">\n",
       "  <thead>\n",
       "    <tr style=\"text-align: right;\">\n",
       "      <th></th>\n",
       "      <th>Sex</th>\n",
       "      <th>rs4680</th>\n",
       "      <th>rs4880</th>\n",
       "      <th>rs4994</th>\n",
       "      <th>rs5186</th>\n",
       "      <th>rs5219</th>\n",
       "      <th>rs5275</th>\n",
       "      <th>rs5443</th>\n",
       "      <th>rs7041</th>\n",
       "      <th>rs7412</th>\n",
       "      <th>target</th>\n",
       "    </tr>\n",
       "  </thead>\n",
       "  <tbody>\n",
       "    <tr>\n",
       "      <th>0</th>\n",
       "      <td>1.0</td>\n",
       "      <td>GG</td>\n",
       "      <td>AG</td>\n",
       "      <td>AG</td>\n",
       "      <td>AC</td>\n",
       "      <td>CT</td>\n",
       "      <td>AA</td>\n",
       "      <td>TT</td>\n",
       "      <td>AC</td>\n",
       "      <td>CC</td>\n",
       "      <td>1.0</td>\n",
       "    </tr>\n",
       "    <tr>\n",
       "      <th>1</th>\n",
       "      <td>0.0</td>\n",
       "      <td>GG</td>\n",
       "      <td>AG</td>\n",
       "      <td>GG</td>\n",
       "      <td>AC</td>\n",
       "      <td>CT</td>\n",
       "      <td>AA</td>\n",
       "      <td>CT</td>\n",
       "      <td>AC</td>\n",
       "      <td>CC</td>\n",
       "      <td>1.0</td>\n",
       "    </tr>\n",
       "    <tr>\n",
       "      <th>2</th>\n",
       "      <td>1.0</td>\n",
       "      <td>GG</td>\n",
       "      <td>AA</td>\n",
       "      <td>AG</td>\n",
       "      <td>AC</td>\n",
       "      <td>CT</td>\n",
       "      <td>AG</td>\n",
       "      <td>CC</td>\n",
       "      <td>AC</td>\n",
       "      <td>CC</td>\n",
       "      <td>1.0</td>\n",
       "    </tr>\n",
       "    <tr>\n",
       "      <th>3</th>\n",
       "      <td>0.0</td>\n",
       "      <td>AA</td>\n",
       "      <td>AA</td>\n",
       "      <td>AA</td>\n",
       "      <td>AA</td>\n",
       "      <td>CC</td>\n",
       "      <td>AG</td>\n",
       "      <td>CT</td>\n",
       "      <td>AC</td>\n",
       "      <td>CC</td>\n",
       "      <td>1.0</td>\n",
       "    </tr>\n",
       "    <tr>\n",
       "      <th>4</th>\n",
       "      <td>1.0</td>\n",
       "      <td>GG</td>\n",
       "      <td>AG</td>\n",
       "      <td>AA</td>\n",
       "      <td>AA</td>\n",
       "      <td>CC</td>\n",
       "      <td>AG</td>\n",
       "      <td>CT</td>\n",
       "      <td>AC</td>\n",
       "      <td>CC</td>\n",
       "      <td>1.0</td>\n",
       "    </tr>\n",
       "  </tbody>\n",
       "</table>\n",
       "</div>"
      ],
      "text/plain": [
       "   Sex rs4680 rs4880 rs4994 rs5186 rs5219 rs5275 rs5443 rs7041 rs7412  target\n",
       "0  1.0     GG     AG     AG     AC     CT     AA     TT     AC     CC     1.0\n",
       "1  0.0     GG     AG     GG     AC     CT     AA     CT     AC     CC     1.0\n",
       "2  1.0     GG     AA     AG     AC     CT     AG     CC     AC     CC     1.0\n",
       "3  0.0     AA     AA     AA     AA     CC     AG     CT     AC     CC     1.0\n",
       "4  1.0     GG     AG     AA     AA     CC     AG     CT     AC     CC     1.0"
      ]
     },
     "execution_count": 17,
     "metadata": {},
     "output_type": "execute_result"
    }
   ],
   "source": [
    "import numpy as np\n",
    "import pandas as pd\n",
    "#please change the path \n",
    "data_2= pd.read_csv(r\"C:\\Users\\yihan\\Desktop\\TB2.csv\",encoding=\"gbk\")\n",
    "data_2.head()\n"
   ]
  },
  {
   "cell_type": "code",
   "execution_count": 18,
   "id": "a4a36666",
   "metadata": {},
   "outputs": [],
   "source": [
    " # data process\n",
    "from sklearn import preprocessing\n",
    "from sklearn.preprocessing import LabelEncoder\n",
    "from sklearn.preprocessing import OneHotEncoder \n",
    "for x in range(0,11):\n",
    "    data_2.iloc[:,x]=data_2.iloc[:,x].fillna(data_2.iloc[:,x].mode()[0])\n",
    "    enc=preprocessing.LabelEncoder()   \n",
    "    data_2.iloc[:,x]=enc.fit_transform(data_2.iloc[:,x])\n",
    "y2=data_2['target']\n",
    "temp_data = pd.DataFrame(data_2)\n",
    "X2= temp_data.drop('target', axis=1).values\n",
    "data_scaler = preprocessing.MinMaxScaler(feature_range=(0, 1))\n",
    "X2= data_scaler.fit_transform(X2)\n",
    " \n",
    "    "
   ]
  },
  {
   "cell_type": "code",
   "execution_count": 19,
   "id": "3c00af7a",
   "metadata": {},
   "outputs": [],
   "source": [
    "#PCA\n",
    "from sklearn.decomposition import PCA\n",
    "pca_1=PCA(n_components=2)\n",
    "X2=pca_1.fit_transform(X2)"
   ]
  },
  {
   "cell_type": "code",
   "execution_count": 22,
   "id": "d15749ff",
   "metadata": {},
   "outputs": [
    {
     "name": "stderr",
     "output_type": "stream",
     "text": [
      "<ipython-input-22-52d88559aece>:54: MatplotlibDeprecationWarning: shading='flat' when X and Y have the same dimensions as C is deprecated since 3.3.  Either specify the corners of the quadrilaterals with X and Y, or pass shading='auto', 'nearest' or 'gouraud', or set rcParams['pcolor.shading'].  This will become an error two minor releases later.\n",
      "  plt.pcolormesh(x_grid, y_grid, predicted_values, cmap=cm.Pastel1)\n"
     ]
    },
    {
     "data": {
      "image/png": "[encoded data removed]",
      "text/plain": [
       "<Figure size 432x288 with 1 Axes>"
      ]
     },
     "metadata": {
      "needs_background": "light"
     },
     "output_type": "display_data"
    },
    {
     "data": {
      "image/png": "[encoded data removed]",
      "text/plain": [
       "<Figure size 432x288 with 1 Axes>"
      ]
     },
     "metadata": {
      "needs_background": "light"
     },
     "output_type": "display_data"
    }
   ],
   "source": [
    "from sklearn import preprocessing\n",
    "from sklearn.model_selection import train_test_split\n",
    "from sklearn.neighbors import KNeighborsClassifier\n",
    "#data_normalized =np.array(preprocessing.normalize(data,norm='l1'))\n",
    "#data=np.column_stack((data_normalized,np.array(data[\"rs\"])))\n",
    "data_scaler = preprocessing.MinMaxScaler(feature_range=(0, 1))\n",
    "X2= data_scaler.fit_transform(X2)\n",
    " \n",
    "from sklearn.decomposition import PCA\n",
    "pca_1=PCA(n_components=2)\n",
    "X2=pca_1.fit_transform(X2)\n",
    "\n",
    "X_train,X_test, y_train, y_test= train_test_split(X2,y2, test_size=0.3, random_state=0);\n",
    "import numpy as np\n",
    "import matplotlib.pyplot as plt\n",
    "import matplotlib.cm as cm\n",
    "from sklearn import neighbors, datasets\n",
    "\n",
    "\n",
    "# Plot input data\n",
    "plt.figure()\n",
    "plt.title('Input datapoints (with data doppelganger)')\n",
    "color = [\"blue\",\"black\" ]\n",
    "mapper = np.array([color[i] for i in y])\n",
    "for i in range(X2.shape[0]):\n",
    "    plt.scatter(X2[i, 0], X2[i, 1],s=50, edgecolors='black', facecolors=mapper[i])\n",
    "\n",
    "# Number of nearest neighbors to consider\n",
    "num_neighbors = 2\n",
    "\n",
    "# step size of the grid\n",
    "h = 0.01  \n",
    "\n",
    "# Create a K-Neighbours Classifier model and train it\n",
    "classifier = KNeighborsClassifier(n_neighbors=24, p=1, weights=\"distance\")\n",
    "classifier.fit(X2, y2)\n",
    "\n",
    "# Create the mesh to plot the boundaries\n",
    "x_min, x_max = X2[:, 0].min() - 1, X2[:, 0].max() + 1\n",
    "y_min, y_max = X2[:, 1].min() - 1, X2[:, 1].max() + 1\n",
    " \n",
    "x_grid, y_grid = np.meshgrid(np.arange(x_min, x_max, h),np.arange(x_min, x_max, h))\n",
    "\n",
    "# Compute the outputs for all the points on the mesh\n",
    "predicted_values = classifier.predict(np.c_[x_grid.ravel(), y_grid.ravel()])\n",
    "\n",
    "# Put the computed results on the map\n",
    "predicted_values = predicted_values.reshape(x_grid.shape)\n",
    "\n",
    "\n",
    "\n",
    "plt.figure()\n",
    "plt.title('k nearest neighbors classifier boundaries')\n",
    "plt.pcolormesh(x_grid, y_grid, predicted_values, cmap=cm.Pastel1)\n",
    "\n",
    "# Overlay the training points on the map\n",
    "for i in range(X2.shape[0]):\n",
    "    plt.scatter(X2[i, 0], X2[i, 1],s=50,edgecolors='black',facecolors= mapper[i])\n",
    "plt.xlim(x_grid.min(),x_grid.max())\n",
    "plt.ylim(y_grid.min(),y_grid.max())\n",
    "\n",
    "\n",
    "plt.show()\n",
    "\n"
   ]
  },
  {
   "cell_type": "code",
   "execution_count": 23,
   "id": "555d8053",
   "metadata": {},
   "outputs": [
    {
     "name": "stdout",
     "output_type": "stream",
     "text": [
      "Accuracy: 93.33%\n",
      "F1: 0.93\n",
      "Precision: 95.0%\n",
      "Recall: 93.33%\n"
     ]
    }
   ],
   "source": [
    "# Cross validation and scoring functions\n",
    "from sklearn.model_selection import cross_val_score\n",
    "num_validations = 5\n",
    "accuracy = cross_val_score(classifier,\n",
    "        X2, y2, scoring='accuracy', cv=num_validations)\n",
    "print (\"Accuracy: \" + str(round(100*accuracy.mean(), 2)) + \"%\")\n",
    "\n",
    "f1 = cross_val_score(classifier, X2, y2, scoring='f1_weighted', cv=num_validations)\n",
    "print (\"F1: \" + str(round( f1.mean(), 2)))\n",
    "\n",
    "precision = cross_val_score(classifier, X2, y2,scoring='precision_weighted', cv=num_validations)\n",
    "print (\"Precision: \" + str(round(100*precision.mean(), 2)) + \"%\")\n",
    "\n",
    "recall = cross_val_score(classifier, X2, y2, scoring='recall_weighted', cv=num_validations)\n",
    "print (\"Recall: \" + str(round(100*recall.mean(), 2)) + \"%\")"
   ]
  },
  {
   "cell_type": "code",
   "execution_count": null,
   "id": "006f6387",
   "metadata": {},
   "outputs": [],
   "source": []
  },
  {
   "cell_type": "code",
   "execution_count": null,
   "id": "fca1c3cb",
   "metadata": {},
   "outputs": [],
   "source": []
  }
 ],
 "metadata": {
  "kernelspec": {
   "display_name": "Python 3",
   "language": "python",
   "name": "python3"
  },
  "language_info": {
   "codemirror_mode": {
    "name": "ipython",
    "version": 3
   },
   "file_extension": ".py",
   "mimetype": "text/x-python",
   "name": "python",
   "nbconvert_exporter": "python",
   "pygments_lexer": "ipython3",
   "version": "3.8.10"
  }
 },
 "nbformat": 4,
 "nbformat_minor": 5
}
